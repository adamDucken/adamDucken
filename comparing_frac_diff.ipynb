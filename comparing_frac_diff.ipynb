{
  "nbformat": 4,
  "nbformat_minor": 0,
  "metadata": {
    "colab": {
      "provenance": [],
      "mount_file_id": "1D06u_qy1M2idvWzRYGClVV7c67F0gQiN",
      "authorship_tag": "ABX9TyPqS7dSliPe8w2USQOpcU+f",
      "include_colab_link": true
    },
    "kernelspec": {
      "name": "python3",
      "display_name": "Python 3"
    },
    "language_info": {
      "name": "python"
    }
  },
  "cells": [
    {
      "cell_type": "markdown",
      "metadata": {
        "id": "view-in-github",
        "colab_type": "text"
      },
      "source": [
        "<a href=\"https://colab.research.google.com/github/adamDucken/adamDucken/blob/main/comparing_frac_diff.ipynb\" target=\"_parent\"><img src=\"https://colab.research.google.com/assets/colab-badge.svg\" alt=\"Open In Colab\"/></a>"
      ]
    },
    {
      "cell_type": "markdown",
      "source": [
        "#Fractional Differentiation of Time Series"
      ],
      "metadata": {
        "id": "ZPMlXMb6xZuu"
      }
    },
    {
      "cell_type": "code",
      "execution_count": 5,
      "metadata": {
        "id": "mO_qMtXptaDK"
      },
      "outputs": [],
      "source": [
        "#so we are going to try to learn how to fractionally differintiate time series data and not kill ourselves"
      ]
    },
    {
      "cell_type": "markdown",
      "source": [
        "##Importing Data\n",
        "We import data from yahoo finance, in real life scenario you would not want to do that as the data from this source is very shitty, the quality is bad and there is really high chance that there are no alpha to be found, we use msft ticker and take daily data as much as possible, and we drop all columns except close  "
      ],
      "metadata": {
        "id": "OAv9leY_xVRy"
      }
    },
    {
      "cell_type": "code",
      "source": [
        "import yfinance as yf\n",
        "\n",
        "# Getting MSFT ticker\n",
        "msft = yf.Ticker(\"MSFT\")\n",
        "\n",
        "# Get MSFT historical market data (daily)\n",
        "df = msft.history(period=\"max\")\n",
        "\n",
        "\n"
      ],
      "metadata": {
        "id": "RT8HnIcFur22"
      },
      "execution_count": 6,
      "outputs": []
    },
    {
      "cell_type": "code",
      "source": [
        "# we take look at only 5 first records\n",
        "df = df['Close']\n",
        "df.head()\n",
        "df.to_csv('/content/drive/MyDrive/datafolder/frac_diff_learn.csv')"
      ],
      "metadata": {
        "id": "VlN8jbKKvh8q"
      },
      "execution_count": 7,
      "outputs": []
    },
    {
      "cell_type": "markdown",
      "source": [
        "##Helper Functions\n",
        "Here is some helper functions, i got them all from book and some of them are modified but the essence is the same and we will need them to perform the fractional differencing"
      ],
      "metadata": {
        "id": "bWfJZEQAxHr1"
      }
    },
    {
      "cell_type": "code",
      "source": [
        "import numpy as np\n",
        "import pandas as pd\n",
        "import matplotlib.pyplot as plt\n",
        "from statsmodels.tsa.stattools import adfuller\n",
        "\n",
        "def getWeights(d, size):\n",
        "    \"\"\"\n",
        "    Calculate weights for fractional differencing\n",
        "    :param d: fractional order of differencing\n",
        "    :param size: size of the series\n",
        "    :return: numpy array of weights\n",
        "    \"\"\"\n",
        "    w = [1.]\n",
        "    for k in range(1, size):\n",
        "        w_ = -w[-1] / k * (d - k + 1)\n",
        "        w.append(w_)\n",
        "    return np.array(w[::-1]).reshape(-1, 1)\n",
        "\n",
        "def plotWeights(dRange, nPlots, size):\n",
        "    \"\"\"\n",
        "    Plot weights for different d values\n",
        "    :param dRange: tuple of (min_d, max_d)\n",
        "    :param nPlots: number of d values to plot\n",
        "    :param size: size of the series\n",
        "    \"\"\"\n",
        "    w = pd.DataFrame()\n",
        "    for d in np.linspace(dRange[0], dRange[1], nPlots):\n",
        "        w_ = getWeights(d, size=size)\n",
        "        w_ = pd.DataFrame(w_, index=range(w_.shape[0])[::-1], columns=[d])\n",
        "        w = w.join(w_, how='outer')\n",
        "    ax = w.plot()\n",
        "    ax.legend(loc='upper left')\n",
        "    plt.show()\n",
        "\n",
        "def fracDiff(series, d, thres=.01):\n",
        "    \"\"\"\n",
        "    Fractionally difference series using expanding window\n",
        "    :param series: input time series\n",
        "    :param d: fractional order of differencing\n",
        "    :param thres: threshold for weight significance\n",
        "    :return: fractionally differenced series\n",
        "    \"\"\"\n",
        "    # 1) Compute weights for the longest series\n",
        "    w = getWeights(d, series.shape[0])\n",
        "\n",
        "    # 2) Determine initial calcs to be skipped based on weight-loss threshold\n",
        "    w_ = np.cumsum(abs(w))\n",
        "    w_ /= w_[-1]\n",
        "    skip = w_[w_ > thres].shape[0]\n",
        "\n",
        "    # 3) Apply weights to values\n",
        "    df = {}\n",
        "    for name in series.columns:\n",
        "        seriesF, df_ = series[[name]].fillna(method='ffill').dropna(), pd.Series()\n",
        "        for iloc in range(skip, seriesF.shape[0]):\n",
        "            loc = seriesF.index[iloc]\n",
        "            if not np.isfinite(series.loc[loc, name]): continue  # exclude NAs\n",
        "            df_[loc] = np.dot(w[-(iloc+1):, :].T, seriesF.loc[:loc])[0, 0]\n",
        "        df[name] = df_.copy(deep=True)\n",
        "    return pd.concat(df, axis=1)\n",
        "\n",
        "def getWeights_FFD(d, thres):\n",
        "    \"\"\"\n",
        "    Calculate weights for fractional differencing (FFD method)\n",
        "    :param d: fractional order of differencing\n",
        "    :param thres: threshold for weight significance\n",
        "    :return: numpy array of weights\n",
        "    \"\"\"\n",
        "    w, k = [1.], 1\n",
        "    while True:\n",
        "        w_ = -w[-1] / k * (d - k + 1)\n",
        "        if abs(w_) < thres:\n",
        "            break\n",
        "        w.append(w_)\n",
        "        k += 1\n",
        "    return np.array(w[::-1]).reshape(-1, 1)\n",
        "\n",
        "def fracDiff_FFD(series, d, thres=1e-5):\n",
        "    \"\"\"\n",
        "    Fractionally difference series using fixed-width window\n",
        "    :param series: input time series\n",
        "    :param d: fractional order of differencing\n",
        "    :param thres: threshold for weight significance\n",
        "    :return: fractionally differenced series\n",
        "    \"\"\"\n",
        "    # 1) Compute weights for the longest series\n",
        "    w = getWeights_FFD(d, thres)\n",
        "    width = len(w) - 1\n",
        "\n",
        "    # 2) Apply weights to values\n",
        "    df = {}\n",
        "    for name in series.columns:\n",
        "        seriesF, df_ = series[[name]].fillna(method='ffill').dropna(), pd.Series()\n",
        "        for iloc1 in range(width, seriesF.shape[0]):\n",
        "            loc0, loc1 = seriesF.index[iloc1-width], seriesF.index[iloc1]\n",
        "            if not np.isfinite(series.loc[loc1, name]): continue  # exclude NAs\n",
        "            df_[loc1] = np.dot(w.T, seriesF.loc[loc0:loc1])[0, 0]\n",
        "        df[name] = df_.copy(deep=True)\n",
        "    return pd.concat(df, axis=1)\n",
        "\n",
        "def plotMinFFD():\n",
        "    \"\"\"\n",
        "    Plot minimum fractional differencing order that achieves stationarity\n",
        "    \"\"\"\n",
        "    path, instName = './', 'ES1_Index_Method12'\n",
        "    out = pd.DataFrame(columns=['adfStat', 'pVal', 'lags', 'nObs', '95% conf', 'corr'])\n",
        "    df0 = pd.read_csv(path+instName+'.csv', index_col=0, parse_dates=True)\n",
        "    for d in np.linspace(0, 1, 11):\n",
        "        df1 = np.log(df0[['Close']]).resample('1D').last()  # downcast to daily obs\n",
        "        df2 = fracDiff_FFD(df1, d, thres=.01)\n",
        "        corr = np.corrcoef(df1.loc[df2.index, 'Close'], df2['Close'])[0, 1]\n",
        "        df2 = adfuller(df2['Close'], maxlag=1, regression='c', autolag=None)\n",
        "        out.loc[d] = list(df2[:4]) + [df2[4]['5%']] + [corr]  # with critical value\n",
        "    out.to_csv(path+instName+'_testMinFFD.csv')\n",
        "    out[['adfStat', 'corr']].plot(secondary_y='adfStat')\n",
        "    plt.axhline(out['95% conf'].mean(), linewidth=1, color='r', linestyle='dotted')\n",
        "    plt.savefig(path+instName+'_testMinFFD.png')\n",
        "\n",
        "def frac_diff_vect(x, d):\n",
        "    \"\"\"\n",
        "    Fractionally difference time series using vectorized operations\n",
        "    :param x: numeric vector or univariate time series\n",
        "    :param d: fractional difference order\n",
        "    :return: fractionally differenced series\n",
        "    \"\"\"\n",
        "    if np.isnan(np.sum(x)):\n",
        "        return None\n",
        "\n",
        "    n = len(x)\n",
        "    if n < 2:\n",
        "        return None\n",
        "\n",
        "    x = np.subtract(x, np.mean(x))\n",
        "\n",
        "    # calculate weights\n",
        "    num = -d * np.cumprod(np.arange(1-d, n-1-d, 1))\n",
        "    den = np.cumprod(np.arange(2, n, 1))\n",
        "    weights = np.divide(num, den)\n",
        "    weights = np.insert(weights, 0, -d)\n",
        "    weights = np.insert(weights, weights.shape, 0)\n",
        "\n",
        "    # difference series\n",
        "    ydiff = x.reshape(1, -1) * weights.reshape(-1, 1)\n",
        "\n",
        "    def tracify(k):\n",
        "        return np.trace(np.fliplr(ydiff), k)\n",
        "\n",
        "    vfunc = np.vectorize(tracify)\n",
        "    ydiff = x + vfunc(np.arange(x.shape[0], 0, -1))\n",
        "\n",
        "    return ydiff"
      ],
      "metadata": {
        "id": "4LtyDLmfw_5D"
      },
      "execution_count": 8,
      "outputs": []
    },
    {
      "cell_type": "markdown",
      "source": [
        "##First Step: Determine the fractional differencing order (d)\n",
        "   - This is a crucial step. The value of 'd' determines how much memory is removed from the series\n",
        "   - You can use methods like grid search with ADF (Augmented Dickey-Fuller) test to find the optimal 'd'\n",
        "   - Typically, 'd' is between 0 and 1, where 0 means no differencing and 1 is equivalent to first-order differencing"
      ],
      "metadata": {
        "id": "mrpr190Yx0E_"
      }
    },
    {
      "cell_type": "code",
      "source": [
        "# import pandas as pd\n",
        "# import numpy as np\n",
        "# import matplotlib.pyplot as plt\n",
        "\n",
        "# # Function definitions for fracDiff_FFD and adfuller should be defined above this code.\n",
        "\n",
        "# # Set your path and instrument name\n",
        "# path, instName = '/content/drive/MyDrive/datafolder/', 'frac_diff_learn'\n",
        "\n",
        "# # Load your CSV file\n",
        "# df0 = pd.read_csv(path + instName + '.csv', index_col=0, parse_dates=True)\n",
        "\n",
        "# # Ensure the index is a DatetimeIndex\n",
        "# if not isinstance(df0.index, pd.DatetimeIndex):\n",
        "#     df0.index = pd.to_datetime(df0.index, utc=True)  # Convert to UTC if necessary\n",
        "\n",
        "# out = pd.DataFrame(columns=['adfStat', 'pVal', 'lags', 'nObs', '95% conf', 'corr'])\n",
        "\n",
        "# # Iterate over the range for fractional differencing order\n",
        "# for d in np.linspace(0, 1, 11):\n",
        "#     df1 = np.log(df0[['Close']]).resample('1D').last()  # Downcast to daily observations\n",
        "#     df2 = fracDiff_FFD(df1, d, thres=.01)  # Perform fractional differencing\n",
        "#     corr = np.corrcoef(df1.loc[df2.index, 'Close'], df2['Close'])[0, 1]  # Calculate correlation\n",
        "#     df2_adf = adfuller(df2['Close'], maxlag=1, regression='c', autolag=None)  # ADF test\n",
        "#     out.loc[d] = list(df2_adf[:4]) + [df2_adf[4]['5%']] + [corr]  # Store results\n",
        "\n",
        "# # Save results to CSV\n",
        "# out.to_csv(path + instName + '_testMinFFD.csv')\n",
        "\n",
        "# # Plotting results\n",
        "# out[['adfStat', 'corr']].plot(secondary_y='adfStat')\n",
        "# plt.axhline(out['95% conf'].mean(), linewidth=1, color='r', linestyle='dotted')\n",
        "# plt.savefig(path + instName + '_testMinFFD.png')\n"
      ],
      "metadata": {
        "id": "GSswOEhyyAJe"
      },
      "execution_count": 9,
      "outputs": []
    },
    {
      "cell_type": "code",
      "source": [
        "# import numpy as np\n",
        "# import pandas as pd\n",
        "# from scipy.interpolate import interp1d\n",
        "\n",
        "# # Your data: adfStat values at different d values\n",
        "# data = pd.DataFrame({\n",
        "#     'd': np.linspace(0, 1, 11),  # These are your d values\n",
        "#     'adfStat': [-2.360041, -2.252498, -2.041347, -2.014602, -2.202033,\n",
        "#                 -2.656395, -3.549108, -4.608734, -7.082544, -10.742598, -73.110313],\n",
        "#     'corr': [1.000000, 0.999994, 0.999948, 0.999809, 0.999518,\n",
        "#              0.998877, 0.997411, 0.995041, 0.987002, 0.969080, -0.013956]\n",
        "# })\n",
        "\n",
        "# # The critical ADF statistic value\n",
        "# critical_value = -2.861837935939707\n",
        "\n",
        "# # Find the two d values around which the ADF statistic crosses the critical value\n",
        "# lower_idx = np.max(np.where(data['adfStat'] > critical_value))\n",
        "# upper_idx = np.min(np.where(data['adfStat'] <= critical_value))\n",
        "\n",
        "# # d values where ADF statistic crosses the threshold\n",
        "# d_lower = data['d'].iloc[lower_idx]\n",
        "# d_upper = data['d'].iloc[upper_idx]\n",
        "\n",
        "# adf_lower = data['adfStat'].iloc[lower_idx]\n",
        "# adf_upper = data['adfStat'].iloc[upper_idx]\n",
        "\n",
        "# # Perform linear interpolation\n",
        "# f_interp = interp1d([adf_lower, adf_upper], [d_lower, d_upper])\n",
        "\n",
        "# # Calculate the d value where ADF statistic crosses the critical value\n",
        "# d_star = f_interp(critical_value)\n",
        "\n",
        "# print(f\"The estimated d value where ADF crosses the threshold: {d_star}\")\n"
      ],
      "metadata": {
        "id": "F53xZdj85KFi"
      },
      "execution_count": 10,
      "outputs": []
    },
    {
      "cell_type": "code",
      "source": [
        "#below is the same as code above but functionalized and made more modular"
      ],
      "metadata": {
        "id": "KyIjH2AHALFv"
      },
      "execution_count": 11,
      "outputs": []
    },
    {
      "cell_type": "code",
      "source": [
        "import pandas as pd\n",
        "import numpy as np\n",
        "import matplotlib.pyplot as plt\n",
        "from scipy.interpolate import interp1d\n",
        "from statsmodels.tsa.stattools import adfuller\n",
        "\n",
        "\n",
        "def findOptimalDiffOrder(csv_path, instrument_name, d_range=np.linspace(0, 1, 11), critical_value=None):\n",
        "    \"\"\"\n",
        "    Performs fractional differencing analysis on time series data using the Augmented Dickey-Fuller (ADF) test\n",
        "    to estimate the optimal fractional differencing order (d). The function generates and saves a CSV file and\n",
        "    a plot showing the ADF statistics and correlation for different values of d.\n",
        "\n",
        "    Parameters:\n",
        "    -----------\n",
        "    csv_path : str\n",
        "        Path to the CSV file containing the time series data with a 'Close' price column and a date-based index.\n",
        "\n",
        "    instrument_name : str\n",
        "        Name of the financial instrument or dataset being analyzed. Used for labeling the output files.\n",
        "\n",
        "    d_range : numpy array, optional\n",
        "        Range of fractional differencing orders (d) to test. Default is a range of 0 to 1, evenly spaced with 11 values.\n",
        "\n",
        "    critical_value : float, optional\n",
        "        The critical value for the ADF test. If None, the mean 95% confidence value from the ADF test results is used.\n",
        "        Default is None.\n",
        "\n",
        "    Returns:\n",
        "    --------\n",
        "    out : pandas.DataFrame\n",
        "        A DataFrame containing the ADF statistics, p-values, lags, number of observations, 95% confidence value,\n",
        "        and correlation for each value of d.\n",
        "\n",
        "    optimal_d : float\n",
        "        The estimated optimal fractional differencing order (d) where the ADF statistic crosses the critical value.\n",
        "\n",
        "    Output Files:\n",
        "    -------------\n",
        "    - `<instrument_name>_testMinFFD.csv` : CSV file containing the results of the ADF test for each value of d.\n",
        "    - `<instrument_name>_testMinFFD.png` : PNG file of the plot showing ADF statistics, correlation, and the optimal d.\n",
        "\n",
        "    Requirements:\n",
        "    -------------\n",
        "    - This function requires the `fracDiff_FFD()` function to be implemented separately to perform fractional differencing.\n",
        "    - This function requires numpy, pandas, matplotlib.pyplot, interp1d from scipy.interpolate, adfuller from statsmodels.tsa.stattools\n",
        "    \"\"\"\n",
        "\n",
        "    # load CSV file\n",
        "    df0 = pd.read_csv(csv_path, index_col=0, parse_dates=True)\n",
        "\n",
        "    # ensure the index is a DatetimeIndex\n",
        "    if not isinstance(df0.index, pd.DatetimeIndex):\n",
        "        df0.index = pd.to_datetime(df0.index, utc=True)\n",
        "\n",
        "    out = pd.DataFrame(columns=['adfStat', 'pVal', 'lags', 'nObs', '95% conf', 'corr'])\n",
        "\n",
        "    # iterate over the range for fractional differencing order\n",
        "    for d in d_range:\n",
        "        df1 = np.log(df0[['Close']]).resample('1D').last()\n",
        "        df2 = fracDiff_FFD(df1, d, thres=0.01)\n",
        "        corr = np.corrcoef(df1.loc[df2.index, 'Close'], df2['Close'])[0, 1]\n",
        "        df2_adf = adfuller(df2['Close'], maxlag=1, regression='c', autolag=None)\n",
        "        out.loc[d] = list(df2_adf[:4]) + [df2_adf[4]['5%']] + [corr]\n",
        "\n",
        "    # save results to CSV\n",
        "    out.to_csv(f\"{instrument_name}_testMinFFD.csv\")\n",
        "\n",
        "    # plotting results\n",
        "    fig, ax1 = plt.subplots(figsize=(10, 6))\n",
        "    ax2 = ax1.twinx()\n",
        "\n",
        "    ax1.plot(out.index, out['adfStat'], 'b-', label='ADF Statistic')\n",
        "    ax2.plot(out.index, out['corr'], 'g-', label='Correlation')\n",
        "\n",
        "    ax1.set_xlabel('Fractional Differencing Order (d)')\n",
        "    ax1.set_ylabel('ADF Statistic', color='b')\n",
        "    ax2.set_ylabel('Correlation', color='g')\n",
        "\n",
        "    ax1.tick_params(axis='y', labelcolor='b')\n",
        "    ax2.tick_params(axis='y', labelcolor='g')\n",
        "\n",
        "    plt.title(f'Fractional Differencing Analysis for {instrument_name}')\n",
        "\n",
        "    if critical_value is not None:\n",
        "        ax1.axhline(critical_value, linewidth=1, color='r', linestyle='dotted', label='Critical Value')\n",
        "    else:\n",
        "        critical_value = out['95% conf'].mean()\n",
        "        ax1.axhline(critical_value, linewidth=1, color='r', linestyle='dotted', label='Mean 95% Confidence')\n",
        "\n",
        "    # find optimal d value\n",
        "    lower_idx = np.max(np.where(out['adfStat'] > critical_value))\n",
        "    upper_idx = np.min(np.where(out['adfStat'] <= critical_value))\n",
        "\n",
        "    d_lower = out.index[lower_idx]\n",
        "    d_upper = out.index[upper_idx]\n",
        "\n",
        "    adf_lower = out['adfStat'].iloc[lower_idx]\n",
        "    adf_upper = out['adfStat'].iloc[upper_idx]\n",
        "\n",
        "    f_interp = interp1d([adf_lower, adf_upper], [d_lower, d_upper])\n",
        "    optimal_d = f_interp(critical_value)\n",
        "\n",
        "    ax1.axvline(optimal_d, linewidth=1, color='k', linestyle='--', label=f'Optimal d ({optimal_d:.3f})')\n",
        "\n",
        "    plt.legend(loc='best')\n",
        "    plt.tight_layout()\n",
        "    plt.savefig(f\"{instrument_name}_testMinFFD.png\")\n",
        "    plt.close()\n",
        "\n",
        "    return out, optimal_d\n"
      ],
      "metadata": {
        "id": "LwzGqr0AAJom"
      },
      "execution_count": 12,
      "outputs": []
    },
    {
      "cell_type": "code",
      "source": [
        "%%capture\n",
        "#usage example:\n",
        "path = '/content/drive/MyDrive/datafolder/' #just random path to your datasets folder\n",
        "file_name = 'frac_diff_learn' # file that is hopefully csv file, you dont have to put the extension in this string\n",
        "csv_file = path + file_name + '.csv' # here we concate the 2 above together\n",
        "\n",
        "results, optimal_d = findOptimalDiffOrder(csv_file, file_name) #here we call the function that we created it will return df and optimal d\n",
        "#we are intersted in optimal d which is the order of diff needed, but if you need you can further investigate the results df for possible miscalculations"
      ],
      "metadata": {
        "id": "PcS8yhi-Aao9"
      },
      "execution_count": 13,
      "outputs": []
    },
    {
      "cell_type": "code",
      "source": [
        "print(optimal_d) #this value is the order of differncing needed to achieve stationarity while preserving as much memory as possible\n",
        "results[['adfStat', 'corr']].plot(secondary_y='adfStat') #here is beautiful plot that shows the relationship between adt statistics value and corr with original series"
      ],
      "metadata": {
        "id": "PmIoITKHBm_s",
        "outputId": "3eb57afe-0201-495a-94a9-9ec8c3e293b9",
        "colab": {
          "base_uri": "https://localhost:8080/",
          "height": 485
        }
      },
      "execution_count": 14,
      "outputs": [
        {
          "output_type": "stream",
          "name": "stdout",
          "text": [
            "0.5222021344546403\n"
          ]
        },
        {
          "output_type": "execute_result",
          "data": {
            "text/plain": [
              "<Axes: >"
            ]
          },
          "metadata": {},
          "execution_count": 14
        },
        {
          "output_type": "display_data",
          "data": {
            "text/plain": [
              "<Figure size 640x480 with 2 Axes>"
            ],
            "image/png": "[encoded data removed]"
          },
          "metadata": {}
        }
      ]
    },
    {
      "cell_type": "markdown",
      "source": [
        "##Second step: Calculate the weights\n",
        "   - The weights are determined by the fractional differencing order 'd'\n",
        "   - They follow a specific pattern based on the binomial expansion of (1-L)^d, where L is the lag operator\n",
        "   - The weights decrease as you go further back in **time**"
      ],
      "metadata": {
        "id": "w53cHp1xjNU6"
      }
    },
    {
      "cell_type": "code",
      "source": [
        "#now if i understand correctly we are supposed to find weights"
      ],
      "metadata": {
        "id": "q7F7JBBISygh"
      },
      "execution_count": 15,
      "outputs": []
    },
    {
      "cell_type": "code",
      "source": [
        "df_size = df.count() # the size param in getWeights() should be the size of the series\n",
        "getWeights(d = optimal_d,size = df_size) # the d is optimal_d you calculated before"
      ],
      "metadata": {
        "colab": {
          "base_uri": "https://localhost:8080/"
        },
        "id": "bgpbFa_leh5R",
        "outputId": "57d427e9-b06f-4ba7-86d8-d690fc7da652"
      },
      "execution_count": 16,
      "outputs": [
        {
          "output_type": "execute_result",
          "data": {
            "text/plain": [
              "array([[-2.40058468e-07],\n",
              "       [-2.40096099e-07],\n",
              "       [-2.40133740e-07],\n",
              "       ...,\n",
              "       [-1.24753533e-01],\n",
              "       [-5.22202134e-01],\n",
              "       [ 1.00000000e+00]])"
            ]
          },
          "metadata": {},
          "execution_count": 16
        }
      ]
    },
    {
      "cell_type": "code",
      "source": [
        "plotWeights(dRange=[0,1], nPlots=11, size=df_size) #dRange is np.linspace(0, 1, 11),but now the first 2 values you provide as tuple and third you give to nPlots, size is the same as above\n",
        "# plotWeights(dRange=[1,2], nPlots=11, size=df_size) # this one i took from book i dont know why he showed this one, for us the d range is from 0 to 1"
      ],
      "metadata": {
        "colab": {
          "base_uri": "https://localhost:8080/",
          "height": 450
        },
        "id": "JKL9tiPeexfE",
        "outputId": "15bef9ca-c057-4501-85b1-528a8e376056"
      },
      "execution_count": 17,
      "outputs": [
        {
          "output_type": "display_data",
          "data": {
            "text/plain": [
              "<Figure size 640x480 with 1 Axes>"
            ],
            "image/png": "[encoded data removed]"
          },
          "metadata": {}
        }
      ]
    },
    {
      "cell_type": "markdown",
      "source": [
        "## Apply the fractional differencing using simple method\n",
        "   - Use the calculated weights to create a weighted sum of past observations\n",
        "   - This step transforms your original series into a fractionally differenced series"
      ],
      "metadata": {
        "id": "v4yYN7MIhoMo"
      }
    },
    {
      "cell_type": "code",
      "source": [
        "import numpy as np\n",
        "import pandas as pd\n",
        "from tqdm import tqdm\n",
        "import time\n",
        "\n",
        "def fracDiff_FFD(series, d, thres=1e-5):\n",
        "    \"\"\"\n",
        "    Fractionally difference series using fixed-width window.\n",
        "    :param series: input time series\n",
        "    :param d: fractional order of differencing\n",
        "    :param thres: threshold for weight significance\n",
        "    :return: fractionally differenced series\n",
        "    \"\"\"\n",
        "    start_time = time.time()  # Start timing\n",
        "\n",
        "    # 1) Compute weights for the fractional differencing\n",
        "    w = getWeights_FFD(d, thres)\n",
        "    width = len(w) - 1\n",
        "\n",
        "    # 2) Apply weights to the values\n",
        "    df = {}\n",
        "    for name in tqdm(series.columns, desc=\"Processing columns\", unit=\"column\"):  # Progress bar for columns\n",
        "        seriesF = series[[name]].fillna(method='ffill').dropna()\n",
        "        df_ = pd.Series(dtype='float64')  # Initialize empty series for the result\n",
        "\n",
        "        # Progress bar for rows\n",
        "        for iloc1 in tqdm(range(width, seriesF.shape[0]), desc=f\"Processing rows in {name}\", leave=False):\n",
        "            loc0, loc1 = seriesF.index[iloc1-width], seriesF.index[iloc1]\n",
        "            if not np.isfinite(series.loc[loc1, name]):\n",
        "                continue  # Skip if the value is NaN or infinite\n",
        "\n",
        "            df_[loc1] = np.dot(w.T, seriesF.loc[loc0:loc1])[0, 0]\n",
        "\n",
        "        df[name] = df_.copy(deep=True)\n",
        "\n",
        "    # Print total time taken\n",
        "    elapsed_time = time.time() - start_time\n",
        "    print(f\"Total time taken: {elapsed_time:.2f} seconds\")\n",
        "\n",
        "    return pd.concat(df, axis=1)\n"
      ],
      "metadata": {
        "id": "bF5wT3zRNmcS"
      },
      "execution_count": 22,
      "outputs": []
    },
    {
      "cell_type": "code",
      "source": [
        "# if df is a Series, we need to convert it to a DataFrame\n",
        "df = pd.DataFrame(df, columns=['Close'])\n",
        "\n",
        "# now we can apply the fracDiff function\n",
        "df_frac_diff = fracDiff_FFD(series=df, d=optimal_d)\n"
      ],
      "metadata": {
        "id": "MmcD3U6MkypW",
        "outputId": "70bed081-5b4e-40a1-e1d5-14fb216837ac",
        "colab": {
          "base_uri": "https://localhost:8080/"
        }
      },
      "execution_count": 23,
      "outputs": [
        {
          "output_type": "stream",
          "name": "stderr",
          "text": [
            "\rProcessing columns:   0%|          | 0/1 [00:00<?, ?column/s]<ipython-input-22-de3cad4f49b2>:23: FutureWarning: DataFrame.fillna with 'method' is deprecated and will raise in a future version. Use obj.ffill() or obj.bfill() instead.\n",
            "  seriesF = series[[name]].fillna(method='ffill').dropna()\n",
            "\n",
            "Processing rows in Close:   0%|          | 0/8875 [00:00<?, ?it/s]\u001b[A\n",
            "Processing rows in Close:   1%|          | 101/8875 [00:00<00:08, 1002.42it/s]\u001b[A\n",
            "Processing rows in Close:   2%|▏         | 202/8875 [00:00<00:09, 926.23it/s] \u001b[A\n",
            "Processing rows in Close:   4%|▎         | 311/8875 [00:00<00:08, 996.00it/s]\u001b[A\n",
            "Processing rows in Close:   5%|▍         | 430/8875 [00:00<00:07, 1066.52it/s]\u001b[A\n",
            "Processing rows in Close:   6%|▌         | 538/8875 [00:00<00:07, 1043.65it/s]\u001b[A\n",
            "Processing rows in Close:   7%|▋         | 643/8875 [00:00<00:07, 1035.26it/s]\u001b[A\n",
            "Processing rows in Close:   9%|▊         | 757/8875 [00:00<00:07, 1065.81it/s]\u001b[A\n",
            "Processing rows in Close:  10%|▉         | 874/8875 [00:00<00:07, 1097.64it/s]\u001b[A\n",
            "Processing rows in Close:  11%|█         | 990/8875 [00:00<00:07, 1116.14it/s]\u001b[A\n",
            "Processing rows in Close:  12%|█▏        | 1102/8875 [00:01<00:07, 1042.62it/s]\u001b[A\n",
            "Processing rows in Close:  14%|█▎        | 1208/8875 [00:01<00:07, 998.78it/s] \u001b[A\n",
            "Processing rows in Close:  15%|█▍        | 1315/8875 [00:01<00:07, 1016.98it/s]\u001b[A\n",
            "Processing rows in Close:  16%|█▌        | 1428/8875 [00:01<00:07, 1048.32it/s]\u001b[A\n",
            "Processing rows in Close:  17%|█▋        | 1544/8875 [00:01<00:06, 1080.22it/s]\u001b[A\n",
            "Processing rows in Close:  19%|█▊        | 1653/8875 [00:01<00:06, 1046.92it/s]\u001b[A\n",
            "Processing rows in Close:  20%|█▉        | 1768/8875 [00:01<00:06, 1076.42it/s]\u001b[A\n",
            "Processing rows in Close:  21%|██        | 1882/8875 [00:01<00:06, 1093.38it/s]\u001b[A\n",
            "Processing rows in Close:  23%|██▎       | 2001/8875 [00:01<00:06, 1119.50it/s]\u001b[A\n",
            "Processing rows in Close:  24%|██▍       | 2114/8875 [00:01<00:06, 1091.53it/s]\u001b[A\n",
            "Processing rows in Close:  25%|██▌       | 2224/8875 [00:02<00:06, 1023.63it/s]\u001b[A\n",
            "Processing rows in Close:  26%|██▋       | 2336/8875 [00:02<00:06, 1048.34it/s]\u001b[A\n",
            "Processing rows in Close:  28%|██▊       | 2450/8875 [00:02<00:05, 1074.11it/s]\u001b[A\n",
            "Processing rows in Close:  29%|██▉       | 2564/8875 [00:02<00:05, 1090.83it/s]\u001b[A\n",
            "Processing rows in Close:  30%|███       | 2676/8875 [00:02<00:05, 1098.01it/s]\u001b[A\n",
            "Processing rows in Close:  31%|███▏      | 2787/8875 [00:02<00:05, 1044.66it/s]\u001b[A\n",
            "Processing rows in Close:  33%|███▎      | 2893/8875 [00:02<00:05, 1042.70it/s]\u001b[A\n",
            "Processing rows in Close:  34%|███▍      | 3006/8875 [00:02<00:05, 1066.08it/s]\u001b[A\n",
            "Processing rows in Close:  35%|███▌      | 3114/8875 [00:02<00:05, 1065.11it/s]\u001b[A\n",
            "Processing rows in Close:  36%|███▋      | 3221/8875 [00:03<00:05, 991.25it/s] \u001b[A\n",
            "Processing rows in Close:  38%|███▊      | 3332/8875 [00:03<00:05, 1023.82it/s]\u001b[A\n",
            "Processing rows in Close:  39%|███▊      | 3436/8875 [00:03<00:05, 1022.24it/s]\u001b[A\n",
            "Processing rows in Close:  40%|███▉      | 3539/8875 [00:03<00:05, 974.86it/s] \u001b[A\n",
            "Processing rows in Close:  41%|████      | 3646/8875 [00:03<00:05, 999.42it/s]\u001b[A\n",
            "Processing rows in Close:  42%|████▏     | 3747/8875 [00:03<00:05, 997.80it/s]\u001b[A\n",
            "Processing rows in Close:  43%|████▎     | 3848/8875 [00:03<00:05, 955.18it/s]\u001b[A\n",
            "Processing rows in Close:  44%|████▍     | 3945/8875 [00:03<00:05, 930.17it/s]\u001b[A\n",
            "Processing rows in Close:  46%|████▌     | 4057/8875 [00:03<00:04, 982.95it/s]\u001b[A\n",
            "Processing rows in Close:  47%|████▋     | 4156/8875 [00:04<00:04, 949.50it/s]\u001b[A\n",
            "Processing rows in Close:  48%|████▊     | 4252/8875 [00:04<00:04, 932.93it/s]\u001b[A\n",
            "Processing rows in Close:  49%|████▉     | 4356/8875 [00:04<00:04, 961.39it/s]\u001b[A\n",
            "Processing rows in Close:  50%|█████     | 4468/8875 [00:04<00:04, 1003.92it/s]\u001b[A\n",
            "Processing rows in Close:  52%|█████▏    | 4573/8875 [00:04<00:04, 1016.24it/s]\u001b[A\n",
            "Processing rows in Close:  53%|█████▎    | 4677/8875 [00:04<00:04, 1021.86it/s]\u001b[A\n",
            "Processing rows in Close:  54%|█████▍    | 4780/8875 [00:04<00:04, 1003.59it/s]\u001b[A\n",
            "Processing rows in Close:  55%|█████▌    | 4889/8875 [00:04<00:03, 1026.85it/s]\u001b[A\n",
            "Processing rows in Close:  56%|█████▋    | 4995/8875 [00:04<00:03, 1033.45it/s]\u001b[A\n",
            "Processing rows in Close:  57%|█████▋    | 5099/8875 [00:04<00:03, 1022.53it/s]\u001b[A\n",
            "Processing rows in Close:  59%|█████▊    | 5202/8875 [00:05<00:03, 965.94it/s] \u001b[A\n",
            "Processing rows in Close:  60%|█████▉    | 5302/8875 [00:05<00:03, 974.40it/s]\u001b[A\n",
            "Processing rows in Close:  61%|██████    | 5405/8875 [00:05<00:03, 989.80it/s]\u001b[A\n",
            "Processing rows in Close:  62%|██████▏   | 5505/8875 [00:05<00:03, 986.90it/s]\u001b[A\n",
            "Processing rows in Close:  63%|██████▎   | 5610/8875 [00:05<00:03, 1003.78it/s]\u001b[A\n",
            "Processing rows in Close:  64%|██████▍   | 5711/8875 [00:05<00:03, 989.56it/s] \u001b[A\n",
            "Processing rows in Close:  65%|██████▌   | 5811/8875 [00:05<00:03, 967.15it/s]\u001b[A\n",
            "Processing rows in Close:  67%|██████▋   | 5908/8875 [00:05<00:03, 965.51it/s]\u001b[A\n",
            "Processing rows in Close:  68%|██████▊   | 6014/8875 [00:05<00:02, 992.20it/s]\u001b[A\n",
            "Processing rows in Close:  69%|██████▉   | 6114/8875 [00:06<00:02, 960.50it/s]\u001b[A\n",
            "Processing rows in Close:  70%|██████▉   | 6211/8875 [00:06<00:02, 935.96it/s]\u001b[A\n",
            "Processing rows in Close:  71%|███████   | 6315/8875 [00:06<00:02, 964.48it/s]\u001b[A\n",
            "Processing rows in Close:  72%|███████▏  | 6414/8875 [00:06<00:02, 969.60it/s]\u001b[A\n",
            "Processing rows in Close:  73%|███████▎  | 6515/8875 [00:06<00:02, 979.21it/s]\u001b[A\n",
            "Processing rows in Close:  75%|███████▍  | 6617/8875 [00:06<00:02, 988.78it/s]\u001b[A\n",
            "Processing rows in Close:  76%|███████▌  | 6717/8875 [00:06<00:02, 983.70it/s]\u001b[A\n",
            "Processing rows in Close:  77%|███████▋  | 6816/8875 [00:06<00:02, 953.13it/s]\u001b[A\n",
            "Processing rows in Close:  78%|███████▊  | 6919/8875 [00:06<00:02, 973.01it/s]\u001b[A\n",
            "Processing rows in Close:  79%|███████▉  | 7024/8875 [00:06<00:01, 992.62it/s]\u001b[A\n",
            "Processing rows in Close:  80%|████████  | 7124/8875 [00:07<00:01, 900.55it/s]\u001b[A\n",
            "Processing rows in Close:  81%|████████▏ | 7216/8875 [00:07<00:01, 853.43it/s]\u001b[A\n",
            "Processing rows in Close:  82%|████████▏ | 7303/8875 [00:07<00:01, 787.02it/s]\u001b[A\n",
            "Processing rows in Close:  83%|████████▎ | 7384/8875 [00:07<00:01, 763.69it/s]\u001b[A\n",
            "Processing rows in Close:  84%|████████▍ | 7462/8875 [00:07<00:01, 721.34it/s]\u001b[A\n",
            "Processing rows in Close:  85%|████████▍ | 7535/8875 [00:07<00:01, 717.87it/s]\u001b[A\n",
            "Processing rows in Close:  86%|████████▌ | 7608/8875 [00:07<00:01, 680.64it/s]\u001b[A\n",
            "Processing rows in Close:  87%|████████▋ | 7677/8875 [00:07<00:01, 680.03it/s]\u001b[A\n",
            "Processing rows in Close:  87%|████████▋ | 7746/8875 [00:08<00:01, 664.52it/s]\u001b[A\n",
            "Processing rows in Close:  88%|████████▊ | 7813/8875 [00:08<00:01, 625.52it/s]\u001b[A\n",
            "Processing rows in Close:  89%|████████▊ | 7876/8875 [00:08<00:01, 623.99it/s]\u001b[A\n",
            "Processing rows in Close:  89%|████████▉ | 7941/8875 [00:08<00:01, 630.26it/s]\u001b[A\n",
            "Processing rows in Close:  90%|█████████ | 8015/8875 [00:08<00:01, 659.63it/s]\u001b[A\n",
            "Processing rows in Close:  91%|█████████ | 8088/8875 [00:08<00:01, 679.40it/s]\u001b[A\n",
            "Processing rows in Close:  92%|█████████▏| 8157/8875 [00:08<00:01, 681.57it/s]\u001b[A\n",
            "Processing rows in Close:  93%|█████████▎| 8228/8875 [00:08<00:00, 687.02it/s]\u001b[A\n",
            "Processing rows in Close:  93%|█████████▎| 8297/8875 [00:08<00:00, 665.66it/s]\u001b[A\n",
            "Processing rows in Close:  94%|█████████▍| 8364/8875 [00:08<00:00, 655.83it/s]\u001b[A\n",
            "Processing rows in Close:  95%|█████████▍| 8430/8875 [00:09<00:00, 640.57it/s]\u001b[A\n",
            "Processing rows in Close:  96%|█████████▌| 8501/8875 [00:09<00:00, 660.38it/s]\u001b[A\n",
            "Processing rows in Close:  97%|█████████▋| 8571/8875 [00:09<00:00, 669.51it/s]\u001b[A\n",
            "Processing rows in Close:  97%|█████████▋| 8640/8875 [00:09<00:00, 673.43it/s]\u001b[A\n",
            "Processing rows in Close:  98%|█████████▊| 8708/8875 [00:09<00:00, 668.54it/s]\u001b[A\n",
            "Processing rows in Close:  99%|█████████▉| 8775/8875 [00:09<00:00, 663.47it/s]\u001b[A\n",
            "Processing rows in Close: 100%|█████████▉| 8846/8875 [00:09<00:00, 674.61it/s]\u001b[A\n",
            "Processing columns: 100%|██████████| 1/1 [00:09<00:00,  9.74s/column]"
          ]
        },
        {
          "output_type": "stream",
          "name": "stdout",
          "text": [
            "Total time taken: 9.75 seconds\n"
          ]
        },
        {
          "output_type": "stream",
          "name": "stderr",
          "text": [
            "\n"
          ]
        }
      ]
    },
    {
      "cell_type": "code",
      "source": [
        "df_frac_diff.plot()\n",
        "df.plot()"
      ],
      "metadata": {
        "id": "k0YCWW8BpR0c",
        "outputId": "b40681f3-3efc-41bd-ba90-d5f9a84ad69d",
        "colab": {
          "base_uri": "https://localhost:8080/",
          "height": 844
        }
      },
      "execution_count": 28,
      "outputs": [
        {
          "output_type": "execute_result",
          "data": {
            "text/plain": [
              "<Axes: xlabel='Date'>"
            ]
          },
          "metadata": {},
          "execution_count": 28
        },
        {
          "output_type": "display_data",
          "data": {
            "text/plain": [
              "<Figure size 640x480 with 1 Axes>"
            ],
            "image/png": "[encoded data removed]"
          },
          "metadata": {}
        },
        {
          "output_type": "display_data",
          "data": {
            "text/plain": [
              "<Figure size 640x480 with 1 Axes>"
            ],
            "image/png": "[encoded data removed]"
          },
          "metadata": {}
        }
      ]
    },
    {
      "cell_type": "markdown",
      "source": [
        "## Apply the fractional differencing using vec method\n"
      ],
      "metadata": {
        "id": "f-b_HVz3NjR9"
      }
    },
    {
      "cell_type": "code",
      "source": [
        "import numpy as np\n",
        "import pandas as pd\n",
        "from tqdm import tqdm  # Import tqdm for progress bar\n",
        "import time  # Import time for tracking start and end times\n",
        "\n",
        "def fracDiff_FFD_vec(series, d, thres=1e-5):\n",
        "    \"\"\"\n",
        "    Fractionally difference series using a fixed-width window method (vectorized).\n",
        "\n",
        "    :param series: input time series (Pandas DataFrame)\n",
        "    :param d: fractional order of differencing\n",
        "    :param thres: threshold for weight significance (to limit small weights)\n",
        "    :return: fractionally differenced series (Pandas DataFrame)\n",
        "    \"\"\"\n",
        "    # Record the start time\n",
        "    start_time = time.time()\n",
        "    start_readable = time.strftime(\"%Y-%m-%d %H:%M:%S\", time.localtime(start_time))\n",
        "    print(f\"Start time: {start_readable}\")\n",
        "\n",
        "    # 1) Compute the weights for the fractional differencing using FFD\n",
        "    w = getWeights_FFD(d, thres)\n",
        "    width = len(w) - 1\n",
        "    df = {}\n",
        "\n",
        "    # Wrap the loop over series.columns with tqdm for the progress bar\n",
        "    for name in tqdm(series.columns, desc=\"Processing columns\", unit=\"column\"):\n",
        "        seriesF = series[[name]].fillna(method='ffill').dropna()\n",
        "\n",
        "        # Convert the series to a 2D NumPy array for vectorized computation\n",
        "        values = seriesF.values\n",
        "        diff_values = np.full(values.shape, np.nan)\n",
        "\n",
        "        # Perform the fractional differencing for each window in a vectorized way\n",
        "        for iloc1 in tqdm(range(width, values.shape[0]), desc=f\"Processing rows in {name}\", leave=False):\n",
        "            if np.isfinite(values[iloc1, 0]):\n",
        "                # Use NumPy's dot product to apply the weights in a vectorized manner\n",
        "                diff_values[iloc1] = np.dot(w.T, values[iloc1-width:iloc1+1])[0]\n",
        "\n",
        "        # Convert the resulting array back to a Pandas Series and assign it to the dictionary\n",
        "        df[name] = pd.Series(diff_values[:, 0], index=seriesF.index)\n",
        "\n",
        "    # Record the end time\n",
        "    end_time = time.time()\n",
        "    end_readable = time.strftime(\"%Y-%m-%d %H:%M:%S\", time.localtime(end_time))\n",
        "    elapsed_time = end_time - start_time\n",
        "\n",
        "    # Print end time and total duration\n",
        "    print(f\"End time: {end_readable}\")\n",
        "    print(f\"Total time taken: {elapsed_time:.2f} seconds\")\n",
        "\n",
        "    return pd.DataFrame(df)"
      ],
      "metadata": {
        "id": "GUpYMq5jNhf7"
      },
      "execution_count": 26,
      "outputs": []
    },
    {
      "cell_type": "code",
      "source": [
        "# if df is a Series, we need to convert it to a DataFrame\n",
        "df = pd.DataFrame(df, columns=['Close'])\n",
        "\n",
        "# now we can apply the fracDiff function\n",
        "df_frac_diff_vec = fracDiff_FFD_vec(series=df, d=optimal_d)\n",
        "df_frac_diff_vec =  df_frac_diff_vec.dropna()"
      ],
      "metadata": {
        "colab": {
          "base_uri": "https://localhost:8080/"
        },
        "id": "4UC-m5QYNiYM",
        "outputId": "ec84347c-ac8c-4c32-b5d8-131c271a47c8"
      },
      "execution_count": 27,
      "outputs": [
        {
          "output_type": "stream",
          "name": "stdout",
          "text": [
            "Start time: 2024-09-26 16:49:59\n"
          ]
        },
        {
          "output_type": "stream",
          "name": "stderr",
          "text": [
            "\rProcessing columns:   0%|          | 0/1 [00:00<?, ?column/s]<ipython-input-26-ea3f650ecd1e>:27: FutureWarning: DataFrame.fillna with 'method' is deprecated and will raise in a future version. Use obj.ffill() or obj.bfill() instead.\n",
            "  seriesF = series[[name]].fillna(method='ffill').dropna()\n",
            "\n",
            "Processing rows in Close:   0%|          | 0/8875 [00:00<?, ?it/s]\u001b[A\n",
            "Processing columns: 100%|██████████| 1/1 [00:00<00:00, 13.09column/s]"
          ]
        },
        {
          "output_type": "stream",
          "name": "stdout",
          "text": [
            "End time: 2024-09-26 16:49:59\n",
            "Total time taken: 0.09 seconds\n"
          ]
        },
        {
          "output_type": "stream",
          "name": "stderr",
          "text": [
            "\n"
          ]
        }
      ]
    },
    {
      "cell_type": "code",
      "source": [
        "df_frac_diff_vec.plot()\n",
        "df.plot()"
      ],
      "metadata": {
        "colab": {
          "base_uri": "https://localhost:8080/",
          "height": 864
        },
        "id": "AGxEdhaqPcO0",
        "outputId": "73298b4c-9d06-4f98-d3ed-20545eb3f826"
      },
      "execution_count": 29,
      "outputs": [
        {
          "output_type": "execute_result",
          "data": {
            "text/plain": [
              "<Axes: xlabel='Date'>"
            ]
          },
          "metadata": {},
          "execution_count": 29
        },
        {
          "output_type": "display_data",
          "data": {
            "text/plain": [
              "<Figure size 640x480 with 1 Axes>"
            ],
            "image/png": "[encoded data removed]"
          },
          "metadata": {}
        },
        {
          "output_type": "display_data",
          "data": {
            "text/plain": [
              "<Figure size 640x480 with 1 Axes>"
            ],
            "image/png": "[encoded data removed]"
          },
          "metadata": {}
        }
      ]
    },
    {
      "cell_type": "markdown",
      "source": [
        "###comparing whether the df's are equal"
      ],
      "metadata": {
        "id": "QtV1I5YRNhI_"
      }
    },
    {
      "cell_type": "code",
      "source": [
        "if df_frac_diff_vec.equals(df_frac_diff):\n",
        "    print(\"The DataFrames are identical.\")\n",
        "else:\n",
        "    print(\"The DataFrames are not identical.\")\n"
      ],
      "metadata": {
        "colab": {
          "base_uri": "https://localhost:8080/"
        },
        "id": "MvtNnIstQWoW",
        "outputId": "147f5934-9760-410a-aaba-5022487656d6"
      },
      "execution_count": 41,
      "outputs": [
        {
          "output_type": "stream",
          "name": "stdout",
          "text": [
            "The DataFrames are identical.\n"
          ]
        }
      ]
    },
    {
      "cell_type": "code",
      "source": [
        "import pandas as pd\n",
        "\n",
        "try:\n",
        "    pd.testing.assert_frame_equal(df_frac_diff_vec, df_frac_diff)\n",
        "    print(\"The DataFrames are identical.\")\n",
        "except AssertionError as e:\n",
        "    print(\"The DataFrames are not identical.\")\n",
        "    print(e)\n"
      ],
      "metadata": {
        "colab": {
          "base_uri": "https://localhost:8080/"
        },
        "id": "N2hUnX0MQbtV",
        "outputId": "1ccc1b92-ab95-4dcd-ab95-b31d7e1cd33b"
      },
      "execution_count": 42,
      "outputs": [
        {
          "output_type": "stream",
          "name": "stdout",
          "text": [
            "The DataFrames are not identical.\n",
            "DataFrame.index are different\n",
            "\n",
            "Attribute \"names\" are different\n",
            "[left]:  ['Date']\n",
            "[right]: [None]\n"
          ]
        }
      ]
    },
    {
      "cell_type": "code",
      "source": [
        "tolerance = 1e-6  # Define an acceptable tolerance for floating-point differences\n",
        "\n",
        "# Check if the difference is within the tolerance level\n",
        "if np.allclose(df_frac_diff_vec.values, df_frac_diff.values, atol=tolerance):\n",
        "    print(\"The DataFrames are approximately equal within the tolerance.\")\n",
        "else:\n",
        "    print(\"The DataFrames are not equal.\")\n"
      ],
      "metadata": {
        "colab": {
          "base_uri": "https://localhost:8080/"
        },
        "id": "nSkJYlg-QdZ9",
        "outputId": "8bc8e44e-ee7a-4179-a043-a3d575174e22"
      },
      "execution_count": 43,
      "outputs": [
        {
          "output_type": "stream",
          "name": "stdout",
          "text": [
            "The DataFrames are approximately equal within the tolerance.\n"
          ]
        }
      ]
    },
    {
      "cell_type": "code",
      "source": [
        "# Check element-wise comparison within a tolerance\n",
        "comparison = np.isclose(df_frac_diff_vec.values, df_frac_diff.values, atol=tolerance)\n",
        "if comparison.all():\n",
        "    print(\"The DataFrames are approximately equal within the tolerance.\")\n",
        "else:\n",
        "    print(\"The DataFrames are not equal.\")\n",
        "\n",
        "    # Find the index of differences\n",
        "    diff_indices = np.where(~comparison)\n",
        "    print(f\"Differences found at indices: {diff_indices}\")\n"
      ],
      "metadata": {
        "colab": {
          "base_uri": "https://localhost:8080/"
        },
        "id": "uN6FDq0QQwQ0",
        "outputId": "786907a7-dc4a-48b7-fd62-ccbe4c550e6f"
      },
      "execution_count": 44,
      "outputs": [
        {
          "output_type": "stream",
          "name": "stdout",
          "text": [
            "The DataFrames are approximately equal within the tolerance.\n"
          ]
        }
      ]
    },
    {
      "cell_type": "code",
      "source": [
        "print(\"Summary statistics of vectorized version:\")\n",
        "print(df_frac_diff_vec.describe())\n",
        "\n",
        "print(\"\\nSummary statistics of original version:\")\n",
        "print(df_frac_diff.describe())\n"
      ],
      "metadata": {
        "colab": {
          "base_uri": "https://localhost:8080/"
        },
        "id": "f82B3nkUQ22z",
        "outputId": "10efbab5-2a04-4db8-95d4-b0a5295c13b8"
      },
      "execution_count": 45,
      "outputs": [
        {
          "output_type": "stream",
          "name": "stdout",
          "text": [
            "Summary statistics of vectorized version:\n",
            "             Close\n",
            "count  8875.000000\n",
            "mean      1.599841\n",
            "std       3.524613\n",
            "min     -17.378292\n",
            "25%       0.057511\n",
            "50%       0.411388\n",
            "75%       1.264747\n",
            "max      26.237203\n",
            "\n",
            "Summary statistics of original version:\n",
            "             Close\n",
            "count  8875.000000\n",
            "mean      1.599841\n",
            "std       3.524613\n",
            "min     -17.378292\n",
            "25%       0.057511\n",
            "50%       0.411388\n",
            "75%       1.264747\n",
            "max      26.237203\n"
          ]
        }
      ]
    },
    {
      "cell_type": "code",
      "source": [
        "# Check for NaNs in both DataFrames\n",
        "nan_count_vec = df_frac_diff_vec.isna().sum()\n",
        "nan_count_orig = df_frac_diff.isna().sum()\n",
        "\n",
        "print(f\"NaN counts in vectorized version: \\n{nan_count_vec}\")\n",
        "print(f\"NaN counts in original version: \\n{nan_count_orig}\")\n"
      ],
      "metadata": {
        "colab": {
          "base_uri": "https://localhost:8080/"
        },
        "id": "t1u_lVacRIdH",
        "outputId": "b10f90ac-b9f1-46e9-e82a-d20d45266d4f"
      },
      "execution_count": 46,
      "outputs": [
        {
          "output_type": "stream",
          "name": "stdout",
          "text": [
            "NaN counts in vectorized version: \n",
            "Close    0\n",
            "dtype: int64\n",
            "NaN counts in original version: \n",
            "Close    0\n",
            "dtype: int64\n"
          ]
        }
      ]
    },
    {
      "cell_type": "markdown",
      "source": [
        "##Fifth step: Verify stationarity\n",
        "\n",
        "\n",
        "   - Check if the resulting series is stationary using tests like ADF or KPSS\n",
        "   - If not stationary, you may need to adjust the 'd' value and repeat steps 3-5"
      ],
      "metadata": {
        "id": "j0_Tb3qUq2Il"
      }
    },
    {
      "cell_type": "code",
      "source": [
        "adfuller(df['Close'], maxlag=1, regression='c', autolag=None)"
      ],
      "metadata": {
        "id": "0EsEPKpnp9Nt",
        "outputId": "e96af8a2-e72a-4d0b-f0d5-db083011bd83",
        "colab": {
          "base_uri": "https://localhost:8080/"
        }
      },
      "execution_count": 47,
      "outputs": [
        {
          "output_type": "execute_result",
          "data": {
            "text/plain": [
              "(3.8306867284320267,\n",
              " 1.0,\n",
              " 1,\n",
              " 9711,\n",
              " {'1%': -3.431023569086351,\n",
              "  '5%': -2.861837676493152,\n",
              "  '10%': -2.5669284480753376})"
            ]
          },
          "metadata": {},
          "execution_count": 47
        }
      ]
    },
    {
      "cell_type": "code",
      "source": [
        "adfuller(df_frac_diff['Close'], maxlag=1, regression='c', autolag=None)"
      ],
      "metadata": {
        "id": "kAcjMSb1qZ0U",
        "outputId": "b5046ae9-c94e-4ac5-bf8a-6852dfde1407",
        "colab": {
          "base_uri": "https://localhost:8080/"
        }
      },
      "execution_count": 48,
      "outputs": [
        {
          "output_type": "execute_result",
          "data": {
            "text/plain": [
              "(-20.501432150292608,\n",
              " 0.0,\n",
              " 1,\n",
              " 8873,\n",
              " {'1%': -3.4310872019402154,\n",
              "  '5%': -2.8618657948480255,\n",
              "  '10%': -2.566943415595445})"
            ]
          },
          "metadata": {},
          "execution_count": 48
        }
      ]
    },
    {
      "cell_type": "code",
      "source": [
        "adfuller(df_frac_diff_vec['Close'], maxlag=1, regression='c', autolag=None)"
      ],
      "metadata": {
        "colab": {
          "base_uri": "https://localhost:8080/"
        },
        "id": "hLFK9DTiSA3E",
        "outputId": "b4c41d3c-8d78-40f5-c3f5-4dd2edf16ba8"
      },
      "execution_count": 49,
      "outputs": [
        {
          "output_type": "execute_result",
          "data": {
            "text/plain": [
              "(-20.501432150292608,\n",
              " 0.0,\n",
              " 1,\n",
              " 8873,\n",
              " {'1%': -3.4310872019402154,\n",
              "  '5%': -2.8618657948480255,\n",
              "  '10%': -2.566943415595445})"
            ]
          },
          "metadata": {},
          "execution_count": 49
        }
      ]
    }
  ]
}